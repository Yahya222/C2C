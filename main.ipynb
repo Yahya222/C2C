{
 "cells": [
  {
   "cell_type": "code",
   "execution_count": 1,
   "metadata": {},
   "outputs": [],
   "source": [
    "import os\n",
    "import random\n",
    "import numpy as np\n",
    "import pandas as pd\n",
    "\n",
    "import torch\n",
    "import torch.nn as nn\n",
    "import albumentations\n",
    "import torch.optim as optim\n",
    "from albumentations.pytorch import ToTensorV2, ToTensor\n",
    "\n",
    "from C2C.models.resnet import *\n",
    "from C2C import train\n",
    "from C2C.loss import KLDLoss\n",
    "from C2C.eval_model import *\n",
    "\n",
    "device = torch.device(\"cuda:0\" if torch.cuda.is_available() else \"cpu\")"
   ]
  },
  {
   "cell_type": "code",
   "execution_count": 2,
   "metadata": {},
   "outputs": [],
   "source": [
    "torch.manual_seed(12)\n",
    "torch.cuda.manual_seed(12)\n",
    "np.random.seed(12)\n",
    "random.seed(12)\n",
    "\n",
    "torch.backends.cudnn.deterministic=True"
   ]
  },
  {
   "cell_type": "markdown",
   "metadata": {},
   "source": [
    "### Read Data CSV\n",
    "\n",
    "- CSV file must contain following columns:\n",
    "    - path - location of each patch\n",
    "    - wsi - Unique identifier for WSI\n",
    "    - label - Label of WSI (Binary 0 or 1)\n",
    "    - is_valid - If WSI part of validation cohort"
   ]
  },
  {
   "cell_type": "code",
   "execution_count": 3,
   "metadata": {},
   "outputs": [],
   "source": [
    "CSV_PATH = '11-3-2021 celiac_normal_split.csv'\n",
    "df = pd.read_csv(CSV_PATH)"
   ]
  },
  {
   "cell_type": "code",
   "execution_count": 4,
   "metadata": {},
   "outputs": [],
   "source": [
    "# # Hard Coding for Celiac vs Normal\n",
    "\n",
    "# def sample_path(li, bpath):\n",
    "    \n",
    "#     img_name = list(set([x.split('__')[0].split('_')[0] for x in li]))\n",
    "#     valid_name = random.sample(img_name, int(0.2*len(img_name)))\n",
    "#     train_name = list(set(img_name) - set(valid_name))\n",
    "        \n",
    "#     train_path = [os.path.join(bpath, x) for x in li if x.split('__')[0].split('_')[0] in train_name]\n",
    "#     valid_path = [os.path.join(bpath, x) for x in li if x.split('__')[0].split('_')[0] in valid_name]\n",
    "    \n",
    "#     return train_path, valid_path\n",
    "\n",
    "# def convert_list_to_nested_list(image_list):\n",
    "#     sample_df = pd.DataFrame({'patch_name': image_list})\n",
    "#     sample_df['img_name'] = sample_df['patch_name'].apply(lambda x: x.split('/')[-1].split('__')[0])\n",
    "#     return list(sample_df.groupby('img_name')['patch_name'].apply(list))\n",
    "\n",
    "\n",
    "# def extract_celiac_normal_df():\n",
    "    \n",
    "#     base_path = '/project/GutIntelligenceLab/ys5hd/MSDS/images_512x512_non_resized/threshold_0.5/'    \n",
    "\n",
    "#     celiac_path = os.path.join(base_path, 'train/Celiac')\n",
    "#     normal_path = os.path.join(base_path, 'train/Normal')    \n",
    "\n",
    "#     # Extract Celiac\n",
    "#     celiac_train, celiac_valid = sample_path(os.listdir(celiac_path), celiac_path)\n",
    "#     # Extract Normal\n",
    "#     normal_train, normal_valid = sample_path(os.listdir(normal_path), normal_path)\n",
    "\n",
    "#     # Train Patches\n",
    "#     train_patches = celiac_train + normal_train\n",
    "#     # Valid Patches\n",
    "#     valid_patches = celiac_valid + normal_valid   \n",
    "\n",
    "#     # Train Image List\n",
    "#     train_images = convert_list_to_nested_list(train_patches)\n",
    "#     # Valid Image List\n",
    "#     valid_images = convert_list_to_nested_list(valid_patches)\n",
    "\n",
    "#     df = pd.DataFrame({'path': train_patches+valid_patches})\n",
    "#     df['wsi'] = df['path'].apply(lambda x: x.split('/')[-1].split('__')[0])\n",
    "\n",
    "#     train_img_name = [x[0].split('/')[-1].split('__')[0] for x in train_images]\n",
    "\n",
    "#     df['is_valid'] = 1\n",
    "#     df.loc[df['wsi'].isin(train_img_name), 'is_valid'] = 0\n",
    "#     df['label'] = df['wsi'].str.startswith('C')\n",
    "    \n",
    "#     return df\n",
    "\n",
    "# df = extract_celiac_normal_df()\n",
    "\n",
    "def sample_for_testing(df):\n",
    "    sample_for_check = df[df['wsi'].str.startswith('C')]['wsi'][:5].tolist() + df[(df['wsi'].str.startswith('C')) & (df['is_valid']==1)]['wsi'][:5].tolist()\\\n",
    "    + df[~df['wsi'].str.startswith('C')]['wsi'][:5].tolist() + df[(~df['wsi'].str.startswith('C')) & (df['is_valid']==1)]['wsi'][:5].tolist()\n",
    "    df = df.loc[df['wsi'].isin(sample_for_check)].reset_index(drop=True)\n",
    "    \n",
    "    return df \n",
    "\n",
    "df = sample_for_testing(df)"
   ]
  },
  {
   "cell_type": "code",
   "execution_count": 5,
   "metadata": {},
   "outputs": [
    {
     "data": {
      "text/html": [
       "<div>\n",
       "<style scoped>\n",
       "    .dataframe tbody tr th:only-of-type {\n",
       "        vertical-align: middle;\n",
       "    }\n",
       "\n",
       "    .dataframe tbody tr th {\n",
       "        vertical-align: top;\n",
       "    }\n",
       "\n",
       "    .dataframe thead th {\n",
       "        text-align: right;\n",
       "    }\n",
       "</style>\n",
       "<table border=\"1\" class=\"dataframe\">\n",
       "  <thead>\n",
       "    <tr style=\"text-align: right;\">\n",
       "      <th></th>\n",
       "      <th>path</th>\n",
       "      <th>wsi</th>\n",
       "      <th>is_valid</th>\n",
       "      <th>label</th>\n",
       "    </tr>\n",
       "  </thead>\n",
       "  <tbody>\n",
       "    <tr>\n",
       "      <th>0</th>\n",
       "      <td>/project/GutIntelligenceLab/ys5hd/MSDS/images_...</td>\n",
       "      <td>C06-28_05</td>\n",
       "      <td>0</td>\n",
       "      <td>True</td>\n",
       "    </tr>\n",
       "    <tr>\n",
       "      <th>1</th>\n",
       "      <td>/project/GutIntelligenceLab/ys5hd/MSDS/images_...</td>\n",
       "      <td>C10-50_01</td>\n",
       "      <td>0</td>\n",
       "      <td>True</td>\n",
       "    </tr>\n",
       "    <tr>\n",
       "      <th>2</th>\n",
       "      <td>/project/GutIntelligenceLab/ys5hd/MSDS/images_...</td>\n",
       "      <td>C10-48_01</td>\n",
       "      <td>0</td>\n",
       "      <td>True</td>\n",
       "    </tr>\n",
       "    <tr>\n",
       "      <th>3</th>\n",
       "      <td>/project/GutIntelligenceLab/ys5hd/MSDS/images_...</td>\n",
       "      <td>C15-74_04</td>\n",
       "      <td>0</td>\n",
       "      <td>True</td>\n",
       "    </tr>\n",
       "    <tr>\n",
       "      <th>4</th>\n",
       "      <td>/project/GutIntelligenceLab/ys5hd/MSDS/images_...</td>\n",
       "      <td>C07-40_01</td>\n",
       "      <td>0</td>\n",
       "      <td>True</td>\n",
       "    </tr>\n",
       "  </tbody>\n",
       "</table>\n",
       "</div>"
      ],
      "text/plain": [
       "                                                path        wsi  is_valid  \\\n",
       "0  /project/GutIntelligenceLab/ys5hd/MSDS/images_...  C06-28_05         0   \n",
       "1  /project/GutIntelligenceLab/ys5hd/MSDS/images_...  C10-50_01         0   \n",
       "2  /project/GutIntelligenceLab/ys5hd/MSDS/images_...  C10-48_01         0   \n",
       "3  /project/GutIntelligenceLab/ys5hd/MSDS/images_...  C15-74_04         0   \n",
       "4  /project/GutIntelligenceLab/ys5hd/MSDS/images_...  C07-40_01         0   \n",
       "\n",
       "   label  \n",
       "0   True  \n",
       "1   True  \n",
       "2   True  \n",
       "3   True  \n",
       "4   True  "
      ]
     },
     "execution_count": 5,
     "metadata": {},
     "output_type": "execute_result"
    }
   ],
   "source": [
    "df.head()"
   ]
  },
  {
   "cell_type": "markdown",
   "metadata": {},
   "source": [
    "### Model"
   ]
  },
  {
   "cell_type": "code",
   "execution_count": 6,
   "metadata": {},
   "outputs": [],
   "source": [
    "# Initialize Model\n",
    "model_ft = WSIClassifier(2, bn_track_running_stats=True)\n",
    "model_ft = model_ft.to(device)"
   ]
  },
  {
   "cell_type": "markdown",
   "metadata": {},
   "source": [
    "### Loss, Optimizer, and Data Transformation"
   ]
  },
  {
   "cell_type": "code",
   "execution_count": 7,
   "metadata": {},
   "outputs": [],
   "source": [
    "# Data Transforms\n",
    "data_transforms = albumentations.Compose([\n",
    "    ToTensor()\n",
    "    ])    \n",
    "\n",
    "# Cross Entropy Loss \n",
    "criterion_ce = nn.CrossEntropyLoss()\n",
    "criterion_kld = KLDLoss()\n",
    "criterion_dic = {'CE': criterion_ce, 'KLD': criterion_kld}\n",
    "\n",
    "# Observe that all parameters are being optimized\n",
    "optimizer = optim.Adam(model_ft.parameters(), lr=1e-4)"
   ]
  },
  {
   "cell_type": "markdown",
   "metadata": {},
   "source": [
    "### Train Model"
   ]
  },
  {
   "cell_type": "code",
   "execution_count": 8,
   "metadata": {
    "scrolled": true
   },
   "outputs": [
    {
     "name": "stderr",
     "output_type": "stream",
     "text": [
      "100%|██████████| 8/8 [00:00<00:00, 35810.49it/s]\n",
      "  0%|          | 0/9 [00:00<?, ?it/s]"
     ]
    },
    {
     "name": "stdout",
     "output_type": "stream",
     "text": [
      "Epoch 0/1\n",
      "----------\n"
     ]
    },
    {
     "name": "stderr",
     "output_type": "stream",
     "text": [
      "100%|██████████| 9/9 [00:49<00:00,  5.46s/it]\n",
      "  0%|          | 0/8 [00:00<?, ?it/s]"
     ]
    },
    {
     "name": "stdout",
     "output_type": "stream",
     "text": [
      "train Loss Patch: 0.6983 Loss WSI: 0.7612 Loss KLD: 0.0004 Acc: 0.4444\n"
     ]
    },
    {
     "name": "stderr",
     "output_type": "stream",
     "text": [
      "100%|██████████| 8/8 [00:27<00:00,  3.45s/it]\n"
     ]
    },
    {
     "name": "stdout",
     "output_type": "stream",
     "text": [
      "Test Accuracy:  0.5\n",
      "Predicted  Normal\n",
      "Actual           \n",
      "Disease         4\n",
      "Normal          4\n"
     ]
    },
    {
     "name": "stderr",
     "output_type": "stream",
     "text": [
      "100%|██████████| 8/8 [00:00<00:00, 47326.42it/s]\n",
      "  0%|          | 0/9 [00:00<?, ?it/s]"
     ]
    },
    {
     "name": "stdout",
     "output_type": "stream",
     "text": [
      "Epoch 1/1\n",
      "----------\n"
     ]
    },
    {
     "name": "stderr",
     "output_type": "stream",
     "text": [
      "100%|██████████| 9/9 [00:43<00:00,  4.84s/it]\n"
     ]
    },
    {
     "name": "stdout",
     "output_type": "stream",
     "text": [
      "NMI: 0.41385914058010753\n"
     ]
    },
    {
     "name": "stderr",
     "output_type": "stream",
     "text": [
      "\r",
      "  0%|          | 0/8 [00:00<?, ?it/s]"
     ]
    },
    {
     "name": "stdout",
     "output_type": "stream",
     "text": [
      "train Loss Patch: 0.6974 Loss WSI: 0.6936 Loss KLD: 0.0004 Acc: 0.4444\n"
     ]
    },
    {
     "name": "stderr",
     "output_type": "stream",
     "text": [
      "100%|██████████| 8/8 [00:27<00:00,  3.39s/it]\n"
     ]
    },
    {
     "name": "stdout",
     "output_type": "stream",
     "text": [
      "Test Accuracy:  0.5\n",
      "Predicted  Normal\n",
      "Actual           \n",
      "Disease         4\n",
      "Normal          4\n",
      "Training complete in 2m 58s\n",
      "Best val Acc: 0.500000\n"
     ]
    }
   ],
   "source": [
    "model_ft = train.train_model(model_ft, criterion_dic, optimizer, df, data_transforms=data_transforms,\\\n",
    "                             use_kld=True, num_epochs=2, fpath='trained/checkpoint.pt')"
   ]
  },
  {
   "cell_type": "markdown",
   "metadata": {},
   "source": [
    "### Evaluate on Test Data"
   ]
  },
  {
   "cell_type": "code",
   "execution_count": 8,
   "metadata": {},
   "outputs": [],
   "source": [
    "TEST_PATH = '11-3-2021 celiac_normal_test_split.csv'\n",
    "df_test = pd.read_csv(TEST_PATH)"
   ]
  },
  {
   "cell_type": "code",
   "execution_count": 9,
   "metadata": {},
   "outputs": [
    {
     "name": "stderr",
     "output_type": "stream",
     "text": [
      "100%|██████████| 5/5 [00:11<00:00,  2.36s/it]"
     ]
    },
    {
     "name": "stdout",
     "output_type": "stream",
     "text": [
      "Test Accuracy:  0.0\n"
     ]
    },
    {
     "name": "stderr",
     "output_type": "stream",
     "text": [
      "\n"
     ]
    }
   ],
   "source": [
    "df_test = eval_test(model_ft, df.iloc[:500], data_transforms)"
   ]
  },
  {
   "cell_type": "code",
   "execution_count": 10,
   "metadata": {},
   "outputs": [
    {
     "data": {
      "text/html": [
       "<div>\n",
       "<style scoped>\n",
       "    .dataframe tbody tr th:only-of-type {\n",
       "        vertical-align: middle;\n",
       "    }\n",
       "\n",
       "    .dataframe tbody tr th {\n",
       "        vertical-align: top;\n",
       "    }\n",
       "\n",
       "    .dataframe thead th {\n",
       "        text-align: right;\n",
       "    }\n",
       "</style>\n",
       "<table border=\"1\" class=\"dataframe\">\n",
       "  <thead>\n",
       "    <tr style=\"text-align: right;\">\n",
       "      <th></th>\n",
       "      <th>wsi</th>\n",
       "      <th>prediction</th>\n",
       "      <th>attention</th>\n",
       "      <th>path</th>\n",
       "      <th>actual</th>\n",
       "    </tr>\n",
       "  </thead>\n",
       "  <tbody>\n",
       "    <tr>\n",
       "      <th>0</th>\n",
       "      <td>C06-28_05</td>\n",
       "      <td>0</td>\n",
       "      <td>-0.174141</td>\n",
       "      <td>/project/GutIntelligenceLab/ys5hd/MSDS/images_...</td>\n",
       "      <td>True</td>\n",
       "    </tr>\n",
       "    <tr>\n",
       "      <th>1</th>\n",
       "      <td>C06-28_05</td>\n",
       "      <td>0</td>\n",
       "      <td>-0.185678</td>\n",
       "      <td>/project/GutIntelligenceLab/ys5hd/MSDS/images_...</td>\n",
       "      <td>True</td>\n",
       "    </tr>\n",
       "    <tr>\n",
       "      <th>2</th>\n",
       "      <td>C06-28_05</td>\n",
       "      <td>0</td>\n",
       "      <td>-0.194565</td>\n",
       "      <td>/project/GutIntelligenceLab/ys5hd/MSDS/images_...</td>\n",
       "      <td>True</td>\n",
       "    </tr>\n",
       "    <tr>\n",
       "      <th>3</th>\n",
       "      <td>C06-28_05</td>\n",
       "      <td>0</td>\n",
       "      <td>-0.184081</td>\n",
       "      <td>/project/GutIntelligenceLab/ys5hd/MSDS/images_...</td>\n",
       "      <td>True</td>\n",
       "    </tr>\n",
       "    <tr>\n",
       "      <th>4</th>\n",
       "      <td>C06-28_05</td>\n",
       "      <td>0</td>\n",
       "      <td>-0.218684</td>\n",
       "      <td>/project/GutIntelligenceLab/ys5hd/MSDS/images_...</td>\n",
       "      <td>True</td>\n",
       "    </tr>\n",
       "  </tbody>\n",
       "</table>\n",
       "</div>"
      ],
      "text/plain": [
       "         wsi  prediction  attention  \\\n",
       "0  C06-28_05           0  -0.174141   \n",
       "1  C06-28_05           0  -0.185678   \n",
       "2  C06-28_05           0  -0.194565   \n",
       "3  C06-28_05           0  -0.184081   \n",
       "4  C06-28_05           0  -0.218684   \n",
       "\n",
       "                                                path  actual  \n",
       "0  /project/GutIntelligenceLab/ys5hd/MSDS/images_...    True  \n",
       "1  /project/GutIntelligenceLab/ys5hd/MSDS/images_...    True  \n",
       "2  /project/GutIntelligenceLab/ys5hd/MSDS/images_...    True  \n",
       "3  /project/GutIntelligenceLab/ys5hd/MSDS/images_...    True  \n",
       "4  /project/GutIntelligenceLab/ys5hd/MSDS/images_...    True  "
      ]
     },
     "execution_count": 10,
     "metadata": {},
     "output_type": "execute_result"
    }
   ],
   "source": [
    "df_test.head()"
   ]
  },
  {
   "cell_type": "code",
   "execution_count": null,
   "metadata": {},
   "outputs": [],
   "source": []
  }
 ],
 "metadata": {
  "kernelspec": {
   "display_name": "PyTorch 1.5.1 Py3.7",
   "language": "python",
   "name": "pytorch-1.5.1"
  },
  "language_info": {
   "codemirror_mode": {
    "name": "ipython",
    "version": 3
   },
   "file_extension": ".py",
   "mimetype": "text/x-python",
   "name": "python",
   "nbconvert_exporter": "python",
   "pygments_lexer": "ipython3",
   "version": "3.7.7"
  }
 },
 "nbformat": 4,
 "nbformat_minor": 4
}
